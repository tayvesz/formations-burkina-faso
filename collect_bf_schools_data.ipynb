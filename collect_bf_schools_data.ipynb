{
 "cells": [
  {
   "cell_type": "code",
   "execution_count": 1,
   "id": "252ad38e-f6ef-4039-a9a6-d5b379e7ea55",
   "metadata": {
    "tags": []
   },
   "outputs": [
    {
     "name": "stdout",
     "output_type": "stream",
     "text": [
      "Requirement already satisfied: pandas in /opt/conda/lib/python3.10/site-packages (2.0.3)\n",
      "Requirement already satisfied: requests in /opt/conda/lib/python3.10/site-packages (2.32.3)\n",
      "Requirement already satisfied: beautifulsoup4 in /opt/conda/lib/python3.10/site-packages (4.12.3)\n",
      "Requirement already satisfied: tqdm in /opt/conda/lib/python3.10/site-packages (4.66.4)\n",
      "Requirement already satisfied: google-cloud-storage in /opt/conda/lib/python3.10/site-packages (2.14.0)\n",
      "Requirement already satisfied: google-cloud-bigquery in /opt/conda/lib/python3.10/site-packages (3.25.0)\n",
      "Requirement already satisfied: python-dateutil>=2.8.2 in /opt/conda/lib/python3.10/site-packages (from pandas) (2.9.0)\n",
      "Requirement already satisfied: pytz>=2020.1 in /opt/conda/lib/python3.10/site-packages (from pandas) (2024.1)\n",
      "Requirement already satisfied: tzdata>=2022.1 in /opt/conda/lib/python3.10/site-packages (from pandas) (2024.1)\n",
      "Requirement already satisfied: numpy>=1.21.0 in /opt/conda/lib/python3.10/site-packages (from pandas) (1.24.4)\n",
      "Requirement already satisfied: charset-normalizer<4,>=2 in /opt/conda/lib/python3.10/site-packages (from requests) (3.3.2)\n",
      "Requirement already satisfied: idna<4,>=2.5 in /opt/conda/lib/python3.10/site-packages (from requests) (3.7)\n",
      "Requirement already satisfied: urllib3<3,>=1.21.1 in /opt/conda/lib/python3.10/site-packages (from requests) (1.26.19)\n",
      "Requirement already satisfied: certifi>=2017.4.17 in /opt/conda/lib/python3.10/site-packages (from requests) (2024.6.2)\n",
      "Requirement already satisfied: soupsieve>1.2 in /opt/conda/lib/python3.10/site-packages (from beautifulsoup4) (2.5)\n",
      "Requirement already satisfied: google-auth<3.0dev,>=2.23.3 in /opt/conda/lib/python3.10/site-packages (from google-cloud-storage) (2.30.0)\n",
      "Requirement already satisfied: google-api-core!=2.0.*,!=2.1.*,!=2.2.*,!=2.3.0,<3.0.0dev,>=1.31.5 in /opt/conda/lib/python3.10/site-packages (from google-cloud-storage) (1.34.1)\n",
      "Requirement already satisfied: google-cloud-core<3.0dev,>=2.3.0 in /opt/conda/lib/python3.10/site-packages (from google-cloud-storage) (2.4.1)\n",
      "Requirement already satisfied: google-resumable-media>=2.6.0 in /opt/conda/lib/python3.10/site-packages (from google-cloud-storage) (2.7.1)\n",
      "Requirement already satisfied: google-crc32c<2.0dev,>=1.0 in /opt/conda/lib/python3.10/site-packages (from google-cloud-storage) (1.5.0)\n",
      "Requirement already satisfied: packaging>=20.0.0 in /opt/conda/lib/python3.10/site-packages (from google-cloud-bigquery) (24.1)\n",
      "Requirement already satisfied: googleapis-common-protos<2.0dev,>=1.56.2 in /opt/conda/lib/python3.10/site-packages (from google-api-core!=2.0.*,!=2.1.*,!=2.2.*,!=2.3.0,<3.0.0dev,>=1.31.5->google-cloud-storage) (1.63.1)\n",
      "Requirement already satisfied: protobuf!=3.20.0,!=3.20.1,!=4.21.0,!=4.21.1,!=4.21.2,!=4.21.3,!=4.21.4,!=4.21.5,<4.0.0dev,>=3.19.5 in /opt/conda/lib/python3.10/site-packages (from google-api-core!=2.0.*,!=2.1.*,!=2.2.*,!=2.3.0,<3.0.0dev,>=1.31.5->google-cloud-storage) (3.19.6)\n",
      "Requirement already satisfied: grpcio<2.0dev,>=1.33.2 in /opt/conda/lib/python3.10/site-packages (from google-api-core[grpc]!=2.0.*,!=2.1.*,!=2.10.*,!=2.2.*,!=2.3.*,!=2.4.*,!=2.5.*,!=2.6.*,!=2.7.*,!=2.8.*,!=2.9.*,<3.0.0dev,>=1.34.1->google-cloud-bigquery) (1.48.0)\n",
      "Requirement already satisfied: grpcio-status<2.0dev,>=1.33.2 in /opt/conda/lib/python3.10/site-packages (from google-api-core[grpc]!=2.0.*,!=2.1.*,!=2.10.*,!=2.2.*,!=2.3.*,!=2.4.*,!=2.5.*,!=2.6.*,!=2.7.*,!=2.8.*,!=2.9.*,<3.0.0dev,>=1.34.1->google-cloud-bigquery) (1.48.0)\n",
      "Requirement already satisfied: cachetools<6.0,>=2.0.0 in /opt/conda/lib/python3.10/site-packages (from google-auth<3.0dev,>=2.23.3->google-cloud-storage) (4.2.4)\n",
      "Requirement already satisfied: pyasn1-modules>=0.2.1 in /opt/conda/lib/python3.10/site-packages (from google-auth<3.0dev,>=2.23.3->google-cloud-storage) (0.4.0)\n",
      "Requirement already satisfied: rsa<5,>=3.1.4 in /opt/conda/lib/python3.10/site-packages (from google-auth<3.0dev,>=2.23.3->google-cloud-storage) (4.9)\n",
      "Requirement already satisfied: six>=1.5 in /opt/conda/lib/python3.10/site-packages (from python-dateutil>=2.8.2->pandas) (1.16.0)\n",
      "Requirement already satisfied: pyasn1<0.7.0,>=0.4.6 in /opt/conda/lib/python3.10/site-packages (from pyasn1-modules>=0.2.1->google-auth<3.0dev,>=2.23.3->google-cloud-storage) (0.6.0)\n",
      "Note: you may need to restart the kernel to use updated packages.\n"
     ]
    }
   ],
   "source": [
    "pip install pandas requests beautifulsoup4 tqdm google-cloud-storage google-cloud-bigquery"
   ]
  },
  {
   "cell_type": "code",
   "execution_count": 2,
   "id": "0d856d7a-7223-4589-953b-e16be811489a",
   "metadata": {
    "tags": []
   },
   "outputs": [
    {
     "name": "stdout",
     "output_type": "stream",
     "text": [
      "Recherche du dernier ID valide...\n",
      "Dernier ID valide trouvé : 901\n"
     ]
    },
    {
     "name": "stderr",
     "output_type": "stream",
     "text": [
      "Progression: 100%|██████████| 901/901 [00:29<00:00, 30.95it/s]\n"
     ]
    },
    {
     "name": "stdout",
     "output_type": "stream",
     "text": [
      "Nombre total d'IDs vérifiés : 901\n",
      "Nombre d'IDs valides trouvés : 901\n",
      "Pourcentage d'IDs valides : 100.00%\n"
     ]
    }
   ],
   "source": [
    "import pandas as pd\n",
    "import requests\n",
    "from bs4 import BeautifulSoup\n",
    "import time\n",
    "from concurrent.futures import ThreadPoolExecutor, as_completed\n",
    "from tqdm import tqdm\n",
    "\n",
    "def fetch_formation_details(formation_id):\n",
    "    url = f\"https://www.campusfaso.bf/formations/ouvrir-fiche?f={formation_id}\"\n",
    "    response = requests.get(url)\n",
    "    if response.status_code == 200:\n",
    "        soup = BeautifulSoup(response.text, 'html.parser')\n",
    "        details = {}\n",
    "\n",
    "        university_header = soup.find('th', style=lambda value: value and 'font-size: 18px' in value)\n",
    "        if university_header:\n",
    "            details['Université'] = university_header.text.strip()\n",
    "\n",
    "        table = soup.find('table')\n",
    "        if table:\n",
    "            rows = table.find_all('tr')\n",
    "            for row in rows:\n",
    "                cells = row.find_all('td')\n",
    "                if len(cells) == 2:\n",
    "                    key = cells[0].text.strip()\n",
    "                    value = cells[1].text.strip()\n",
    "                    details[key] = value\n",
    "\n",
    "        details['ID'] = formation_id\n",
    "        return details\n",
    "    return {}\n",
    "\n",
    "def process_formation(formation_id):\n",
    "    details = fetch_formation_details(formation_id)\n",
    "    time.sleep(0.5)  # Pause de 0.5 seconde entre chaque requête\n",
    "    return details\n",
    "\n",
    "def find_last_valid_id(start_id, step=100, max_attempts=10):\n",
    "    last_valid_id = start_id\n",
    "    current_id = start_id\n",
    "    attempts = 0\n",
    "\n",
    "    while attempts < max_attempts:\n",
    "        details = fetch_formation_details(current_id)\n",
    "        if details:\n",
    "            last_valid_id = current_id\n",
    "            current_id += step\n",
    "        else:\n",
    "            if step == 1:\n",
    "                break\n",
    "            current_id = last_valid_id\n",
    "            step = max(1, step // 2)\n",
    "        attempts += 1\n",
    "\n",
    "    return last_valid_id\n",
    "\n",
    "def process_formations_parallel(start_id, end_id, max_workers=20):\n",
    "    formations = []\n",
    "    total_formations = end_id - start_id + 1\n",
    "    valid_ids = 0\n",
    "\n",
    "    with ThreadPoolExecutor(max_workers=max_workers) as executor:\n",
    "        futures = [executor.submit(process_formation, formation_id)\n",
    "                   for formation_id in range(start_id, end_id + 1)]\n",
    "\n",
    "        for future in tqdm(as_completed(futures), total=total_formations, desc=\"Progression\"):\n",
    "            try:\n",
    "                details = future.result()\n",
    "                if details:\n",
    "                    formations.append(details)\n",
    "                    valid_ids += 1\n",
    "            except Exception as exc:\n",
    "                formation_id = details.get('ID', 'Inconnu')\n",
    "                print(f\"La formation ID {formation_id} a généré une exception: {exc}\")\n",
    "\n",
    "    df = pd.DataFrame(formations)\n",
    "    return df, valid_ids\n",
    "\n",
    "# Détection automatique du dernier ID valide\n",
    "start_id = 1\n",
    "print(\"Recherche du dernier ID valide...\")\n",
    "end_id = find_last_valid_id(start_id)\n",
    "print(f\"Dernier ID valide trouvé : {end_id}\")\n",
    "\n",
    "# Extraction des données\n",
    "result, valid_count = process_formations_parallel(start_id, end_id)\n",
    "\n",
    "print(f\"Nombre total d'IDs vérifiés : {end_id - start_id + 1}\")\n",
    "print(f\"Nombre d'IDs valides trouvés : {valid_count}\")\n",
    "print(f\"Pourcentage d'IDs valides : {(valid_count / (end_id - start_id + 1)) * 100:.2f}%\")\n",
    "\n",
    "# Réorganiser les colonnes pour avoir 'Université' en premier\n",
    "columns_order = ['ID', 'Université'] + [col for col in result.columns if col not in ['ID', 'Université']]\n",
    "result = result[columns_order]\n",
    "result[~result['Université'].isnull()].reset_index(drop=True, inplace=True)\n"
   ]
  },
  {
   "cell_type": "code",
   "execution_count": 3,
   "id": "609afeb1-ab91-489d-a584-24fbff47fd78",
   "metadata": {
    "tags": []
   },
   "outputs": [
    {
     "name": "stdout",
     "output_type": "stream",
     "text": [
      "collect_bf_schools_data.ipynb  src  tutorials\n"
     ]
    }
   ],
   "source": [
    "!ls"
   ]
  },
  {
   "cell_type": "code",
   "execution_count": null,
   "id": "2e13b8e2-c948-4b2a-b2ba-c48045e43f45",
   "metadata": {},
   "outputs": [],
   "source": []
  }
 ],
 "metadata": {
  "environment": {
   "kernel": "python3",
   "name": "tf2-cpu.2-11.m123",
   "type": "gcloud",
   "uri": "us-docker.pkg.dev/deeplearning-platform-release/gcr.io/tf2-cpu.2-11:m123"
  },
  "kernelspec": {
   "display_name": "Python 3 (Local)",
   "language": "python",
   "name": "python3"
  },
  "language_info": {
   "codemirror_mode": {
    "name": "ipython",
    "version": 3
   },
   "file_extension": ".py",
   "mimetype": "text/x-python",
   "name": "python",
   "nbconvert_exporter": "python",
   "pygments_lexer": "ipython3",
   "version": "3.10.14"
  }
 },
 "nbformat": 4,
 "nbformat_minor": 5
}
